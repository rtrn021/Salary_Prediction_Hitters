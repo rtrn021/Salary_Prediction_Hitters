{
 "cells": [
  {
   "cell_type": "code",
   "execution_count": 1,
   "metadata": {},
   "outputs": [],
   "source": [
    "import pandas as pd\n",
    "import numpy as np\n",
    "import seaborn as sns\n",
    "from sklearn.linear_model import LinearRegression\n",
    "from sklearn.linear_model import Ridge\n",
    "from sklearn.linear_model import Lasso\n",
    "from sklearn.linear_model import ElasticNet\n",
    "from sklearn.metrics import mean_squared_error,r2_score\n",
    "from sklearn.model_selection import train_test_split, cross_val_score\n",
    "from sklearn.preprocessing import StandardScaler\n",
    "from sklearn import preprocessing\n",
    "import warnings\n",
    "warnings.filterwarnings(\"ignore\")\n",
    "scaler = StandardScaler()\n",
    "normalizer = preprocessing.Normalizer()"
   ]
  },
  {
   "cell_type": "markdown",
   "metadata": {},
   "source": [
    "# 1. Get to know the data"
   ]
  },
  {
   "cell_type": "code",
   "execution_count": 2,
   "metadata": {},
   "outputs": [],
   "source": [
    "# That is the list of our first and basic models\n",
    "modelList={\"LinearReg\":LinearRegression(),\"Ridge\":Ridge(),\"Lasso\":Lasso(),\"ElasticNet\":ElasticNet()}"
   ]
  },
  {
   "cell_type": "code",
   "execution_count": 3,
   "metadata": {},
   "outputs": [
    {
     "data": {
      "text/html": [
       "<div>\n",
       "<style scoped>\n",
       "    .dataframe tbody tr th:only-of-type {\n",
       "        vertical-align: middle;\n",
       "    }\n",
       "\n",
       "    .dataframe tbody tr th {\n",
       "        vertical-align: top;\n",
       "    }\n",
       "\n",
       "    .dataframe thead th {\n",
       "        text-align: right;\n",
       "    }\n",
       "</style>\n",
       "<table border=\"1\" class=\"dataframe\">\n",
       "  <thead>\n",
       "    <tr style=\"text-align: right;\">\n",
       "      <th></th>\n",
       "      <th>AtBat</th>\n",
       "      <th>Hits</th>\n",
       "      <th>HmRun</th>\n",
       "      <th>Runs</th>\n",
       "      <th>RBI</th>\n",
       "      <th>Walks</th>\n",
       "      <th>Years</th>\n",
       "      <th>CAtBat</th>\n",
       "      <th>CHits</th>\n",
       "      <th>CHmRun</th>\n",
       "      <th>CRuns</th>\n",
       "      <th>CRBI</th>\n",
       "      <th>CWalks</th>\n",
       "      <th>League</th>\n",
       "      <th>Division</th>\n",
       "      <th>PutOuts</th>\n",
       "      <th>Assists</th>\n",
       "      <th>Errors</th>\n",
       "      <th>Salary</th>\n",
       "      <th>NewLeague</th>\n",
       "    </tr>\n",
       "  </thead>\n",
       "  <tbody>\n",
       "    <tr>\n",
       "      <th>0</th>\n",
       "      <td>293</td>\n",
       "      <td>66</td>\n",
       "      <td>1</td>\n",
       "      <td>30</td>\n",
       "      <td>29</td>\n",
       "      <td>14</td>\n",
       "      <td>1</td>\n",
       "      <td>293</td>\n",
       "      <td>66</td>\n",
       "      <td>1</td>\n",
       "      <td>30</td>\n",
       "      <td>29</td>\n",
       "      <td>14</td>\n",
       "      <td>A</td>\n",
       "      <td>E</td>\n",
       "      <td>446</td>\n",
       "      <td>33</td>\n",
       "      <td>20</td>\n",
       "      <td>NaN</td>\n",
       "      <td>A</td>\n",
       "    </tr>\n",
       "    <tr>\n",
       "      <th>1</th>\n",
       "      <td>315</td>\n",
       "      <td>81</td>\n",
       "      <td>7</td>\n",
       "      <td>24</td>\n",
       "      <td>38</td>\n",
       "      <td>39</td>\n",
       "      <td>14</td>\n",
       "      <td>3449</td>\n",
       "      <td>835</td>\n",
       "      <td>69</td>\n",
       "      <td>321</td>\n",
       "      <td>414</td>\n",
       "      <td>375</td>\n",
       "      <td>N</td>\n",
       "      <td>W</td>\n",
       "      <td>632</td>\n",
       "      <td>43</td>\n",
       "      <td>10</td>\n",
       "      <td>475.0</td>\n",
       "      <td>N</td>\n",
       "    </tr>\n",
       "    <tr>\n",
       "      <th>2</th>\n",
       "      <td>479</td>\n",
       "      <td>130</td>\n",
       "      <td>18</td>\n",
       "      <td>66</td>\n",
       "      <td>72</td>\n",
       "      <td>76</td>\n",
       "      <td>3</td>\n",
       "      <td>1624</td>\n",
       "      <td>457</td>\n",
       "      <td>63</td>\n",
       "      <td>224</td>\n",
       "      <td>266</td>\n",
       "      <td>263</td>\n",
       "      <td>A</td>\n",
       "      <td>W</td>\n",
       "      <td>880</td>\n",
       "      <td>82</td>\n",
       "      <td>14</td>\n",
       "      <td>480.0</td>\n",
       "      <td>A</td>\n",
       "    </tr>\n",
       "    <tr>\n",
       "      <th>3</th>\n",
       "      <td>496</td>\n",
       "      <td>141</td>\n",
       "      <td>20</td>\n",
       "      <td>65</td>\n",
       "      <td>78</td>\n",
       "      <td>37</td>\n",
       "      <td>11</td>\n",
       "      <td>5628</td>\n",
       "      <td>1575</td>\n",
       "      <td>225</td>\n",
       "      <td>828</td>\n",
       "      <td>838</td>\n",
       "      <td>354</td>\n",
       "      <td>N</td>\n",
       "      <td>E</td>\n",
       "      <td>200</td>\n",
       "      <td>11</td>\n",
       "      <td>3</td>\n",
       "      <td>500.0</td>\n",
       "      <td>N</td>\n",
       "    </tr>\n",
       "    <tr>\n",
       "      <th>4</th>\n",
       "      <td>321</td>\n",
       "      <td>87</td>\n",
       "      <td>10</td>\n",
       "      <td>39</td>\n",
       "      <td>42</td>\n",
       "      <td>30</td>\n",
       "      <td>2</td>\n",
       "      <td>396</td>\n",
       "      <td>101</td>\n",
       "      <td>12</td>\n",
       "      <td>48</td>\n",
       "      <td>46</td>\n",
       "      <td>33</td>\n",
       "      <td>N</td>\n",
       "      <td>E</td>\n",
       "      <td>805</td>\n",
       "      <td>40</td>\n",
       "      <td>4</td>\n",
       "      <td>91.5</td>\n",
       "      <td>N</td>\n",
       "    </tr>\n",
       "  </tbody>\n",
       "</table>\n",
       "</div>"
      ],
      "text/plain": [
       "   AtBat  Hits  HmRun  Runs  RBI  Walks  Years  CAtBat  CHits  CHmRun  CRuns  \\\n",
       "0    293    66      1    30   29     14      1     293     66       1     30   \n",
       "1    315    81      7    24   38     39     14    3449    835      69    321   \n",
       "2    479   130     18    66   72     76      3    1624    457      63    224   \n",
       "3    496   141     20    65   78     37     11    5628   1575     225    828   \n",
       "4    321    87     10    39   42     30      2     396    101      12     48   \n",
       "\n",
       "   CRBI  CWalks League Division  PutOuts  Assists  Errors  Salary NewLeague  \n",
       "0    29      14      A        E      446       33      20     NaN         A  \n",
       "1   414     375      N        W      632       43      10   475.0         N  \n",
       "2   266     263      A        W      880       82      14   480.0         A  \n",
       "3   838     354      N        E      200       11       3   500.0         N  \n",
       "4    46      33      N        E      805       40       4    91.5         N  "
      ]
     },
     "execution_count": 3,
     "metadata": {},
     "output_type": "execute_result"
    }
   ],
   "source": [
    "# lets import our data\n",
    "hitters = pd.read_csv(\"data/Hitters.csv\")\n",
    "df = hitters.copy()\n",
    "df.head()"
   ]
  },
  {
   "cell_type": "code",
   "execution_count": 4,
   "metadata": {},
   "outputs": [
    {
     "data": {
      "text/html": [
       "<div>\n",
       "<style scoped>\n",
       "    .dataframe tbody tr th:only-of-type {\n",
       "        vertical-align: middle;\n",
       "    }\n",
       "\n",
       "    .dataframe tbody tr th {\n",
       "        vertical-align: top;\n",
       "    }\n",
       "\n",
       "    .dataframe thead th {\n",
       "        text-align: right;\n",
       "    }\n",
       "</style>\n",
       "<table border=\"1\" class=\"dataframe\">\n",
       "  <thead>\n",
       "    <tr style=\"text-align: right;\">\n",
       "      <th></th>\n",
       "      <th>count</th>\n",
       "      <th>mean</th>\n",
       "      <th>std</th>\n",
       "      <th>min</th>\n",
       "      <th>25%</th>\n",
       "      <th>50%</th>\n",
       "      <th>75%</th>\n",
       "      <th>max</th>\n",
       "    </tr>\n",
       "  </thead>\n",
       "  <tbody>\n",
       "    <tr>\n",
       "      <th>AtBat</th>\n",
       "      <td>322.0</td>\n",
       "      <td>380.928571</td>\n",
       "      <td>153.404981</td>\n",
       "      <td>16.0</td>\n",
       "      <td>255.25</td>\n",
       "      <td>379.5</td>\n",
       "      <td>512.00</td>\n",
       "      <td>687.0</td>\n",
       "    </tr>\n",
       "    <tr>\n",
       "      <th>Hits</th>\n",
       "      <td>322.0</td>\n",
       "      <td>101.024845</td>\n",
       "      <td>46.454741</td>\n",
       "      <td>1.0</td>\n",
       "      <td>64.00</td>\n",
       "      <td>96.0</td>\n",
       "      <td>137.00</td>\n",
       "      <td>238.0</td>\n",
       "    </tr>\n",
       "    <tr>\n",
       "      <th>HmRun</th>\n",
       "      <td>322.0</td>\n",
       "      <td>10.770186</td>\n",
       "      <td>8.709037</td>\n",
       "      <td>0.0</td>\n",
       "      <td>4.00</td>\n",
       "      <td>8.0</td>\n",
       "      <td>16.00</td>\n",
       "      <td>40.0</td>\n",
       "    </tr>\n",
       "    <tr>\n",
       "      <th>Runs</th>\n",
       "      <td>322.0</td>\n",
       "      <td>50.909938</td>\n",
       "      <td>26.024095</td>\n",
       "      <td>0.0</td>\n",
       "      <td>30.25</td>\n",
       "      <td>48.0</td>\n",
       "      <td>69.00</td>\n",
       "      <td>130.0</td>\n",
       "    </tr>\n",
       "    <tr>\n",
       "      <th>RBI</th>\n",
       "      <td>322.0</td>\n",
       "      <td>48.027950</td>\n",
       "      <td>26.166895</td>\n",
       "      <td>0.0</td>\n",
       "      <td>28.00</td>\n",
       "      <td>44.0</td>\n",
       "      <td>64.75</td>\n",
       "      <td>121.0</td>\n",
       "    </tr>\n",
       "    <tr>\n",
       "      <th>Walks</th>\n",
       "      <td>322.0</td>\n",
       "      <td>38.742236</td>\n",
       "      <td>21.639327</td>\n",
       "      <td>0.0</td>\n",
       "      <td>22.00</td>\n",
       "      <td>35.0</td>\n",
       "      <td>53.00</td>\n",
       "      <td>105.0</td>\n",
       "    </tr>\n",
       "    <tr>\n",
       "      <th>Years</th>\n",
       "      <td>322.0</td>\n",
       "      <td>7.444099</td>\n",
       "      <td>4.926087</td>\n",
       "      <td>1.0</td>\n",
       "      <td>4.00</td>\n",
       "      <td>6.0</td>\n",
       "      <td>11.00</td>\n",
       "      <td>24.0</td>\n",
       "    </tr>\n",
       "    <tr>\n",
       "      <th>CAtBat</th>\n",
       "      <td>322.0</td>\n",
       "      <td>2648.683230</td>\n",
       "      <td>2324.205870</td>\n",
       "      <td>19.0</td>\n",
       "      <td>816.75</td>\n",
       "      <td>1928.0</td>\n",
       "      <td>3924.25</td>\n",
       "      <td>14053.0</td>\n",
       "    </tr>\n",
       "    <tr>\n",
       "      <th>CHits</th>\n",
       "      <td>322.0</td>\n",
       "      <td>717.571429</td>\n",
       "      <td>654.472627</td>\n",
       "      <td>4.0</td>\n",
       "      <td>209.00</td>\n",
       "      <td>508.0</td>\n",
       "      <td>1059.25</td>\n",
       "      <td>4256.0</td>\n",
       "    </tr>\n",
       "    <tr>\n",
       "      <th>CHmRun</th>\n",
       "      <td>322.0</td>\n",
       "      <td>69.490683</td>\n",
       "      <td>86.266061</td>\n",
       "      <td>0.0</td>\n",
       "      <td>14.00</td>\n",
       "      <td>37.5</td>\n",
       "      <td>90.00</td>\n",
       "      <td>548.0</td>\n",
       "    </tr>\n",
       "    <tr>\n",
       "      <th>CRuns</th>\n",
       "      <td>322.0</td>\n",
       "      <td>358.795031</td>\n",
       "      <td>334.105886</td>\n",
       "      <td>1.0</td>\n",
       "      <td>100.25</td>\n",
       "      <td>247.0</td>\n",
       "      <td>526.25</td>\n",
       "      <td>2165.0</td>\n",
       "    </tr>\n",
       "    <tr>\n",
       "      <th>CRBI</th>\n",
       "      <td>322.0</td>\n",
       "      <td>330.118012</td>\n",
       "      <td>333.219617</td>\n",
       "      <td>0.0</td>\n",
       "      <td>88.75</td>\n",
       "      <td>220.5</td>\n",
       "      <td>426.25</td>\n",
       "      <td>1659.0</td>\n",
       "    </tr>\n",
       "    <tr>\n",
       "      <th>CWalks</th>\n",
       "      <td>322.0</td>\n",
       "      <td>260.239130</td>\n",
       "      <td>267.058085</td>\n",
       "      <td>0.0</td>\n",
       "      <td>67.25</td>\n",
       "      <td>170.5</td>\n",
       "      <td>339.25</td>\n",
       "      <td>1566.0</td>\n",
       "    </tr>\n",
       "    <tr>\n",
       "      <th>PutOuts</th>\n",
       "      <td>322.0</td>\n",
       "      <td>288.937888</td>\n",
       "      <td>280.704614</td>\n",
       "      <td>0.0</td>\n",
       "      <td>109.25</td>\n",
       "      <td>212.0</td>\n",
       "      <td>325.00</td>\n",
       "      <td>1378.0</td>\n",
       "    </tr>\n",
       "    <tr>\n",
       "      <th>Assists</th>\n",
       "      <td>322.0</td>\n",
       "      <td>106.913043</td>\n",
       "      <td>136.854876</td>\n",
       "      <td>0.0</td>\n",
       "      <td>7.00</td>\n",
       "      <td>39.5</td>\n",
       "      <td>166.00</td>\n",
       "      <td>492.0</td>\n",
       "    </tr>\n",
       "    <tr>\n",
       "      <th>Errors</th>\n",
       "      <td>322.0</td>\n",
       "      <td>8.040373</td>\n",
       "      <td>6.368359</td>\n",
       "      <td>0.0</td>\n",
       "      <td>3.00</td>\n",
       "      <td>6.0</td>\n",
       "      <td>11.00</td>\n",
       "      <td>32.0</td>\n",
       "    </tr>\n",
       "    <tr>\n",
       "      <th>Salary</th>\n",
       "      <td>263.0</td>\n",
       "      <td>535.925882</td>\n",
       "      <td>451.118681</td>\n",
       "      <td>67.5</td>\n",
       "      <td>190.00</td>\n",
       "      <td>425.0</td>\n",
       "      <td>750.00</td>\n",
       "      <td>2460.0</td>\n",
       "    </tr>\n",
       "  </tbody>\n",
       "</table>\n",
       "</div>"
      ],
      "text/plain": [
       "         count         mean          std   min     25%     50%      75%  \\\n",
       "AtBat    322.0   380.928571   153.404981  16.0  255.25   379.5   512.00   \n",
       "Hits     322.0   101.024845    46.454741   1.0   64.00    96.0   137.00   \n",
       "HmRun    322.0    10.770186     8.709037   0.0    4.00     8.0    16.00   \n",
       "Runs     322.0    50.909938    26.024095   0.0   30.25    48.0    69.00   \n",
       "RBI      322.0    48.027950    26.166895   0.0   28.00    44.0    64.75   \n",
       "Walks    322.0    38.742236    21.639327   0.0   22.00    35.0    53.00   \n",
       "Years    322.0     7.444099     4.926087   1.0    4.00     6.0    11.00   \n",
       "CAtBat   322.0  2648.683230  2324.205870  19.0  816.75  1928.0  3924.25   \n",
       "CHits    322.0   717.571429   654.472627   4.0  209.00   508.0  1059.25   \n",
       "CHmRun   322.0    69.490683    86.266061   0.0   14.00    37.5    90.00   \n",
       "CRuns    322.0   358.795031   334.105886   1.0  100.25   247.0   526.25   \n",
       "CRBI     322.0   330.118012   333.219617   0.0   88.75   220.5   426.25   \n",
       "CWalks   322.0   260.239130   267.058085   0.0   67.25   170.5   339.25   \n",
       "PutOuts  322.0   288.937888   280.704614   0.0  109.25   212.0   325.00   \n",
       "Assists  322.0   106.913043   136.854876   0.0    7.00    39.5   166.00   \n",
       "Errors   322.0     8.040373     6.368359   0.0    3.00     6.0    11.00   \n",
       "Salary   263.0   535.925882   451.118681  67.5  190.00   425.0   750.00   \n",
       "\n",
       "             max  \n",
       "AtBat      687.0  \n",
       "Hits       238.0  \n",
       "HmRun       40.0  \n",
       "Runs       130.0  \n",
       "RBI        121.0  \n",
       "Walks      105.0  \n",
       "Years       24.0  \n",
       "CAtBat   14053.0  \n",
       "CHits     4256.0  \n",
       "CHmRun     548.0  \n",
       "CRuns     2165.0  \n",
       "CRBI      1659.0  \n",
       "CWalks    1566.0  \n",
       "PutOuts   1378.0  \n",
       "Assists    492.0  \n",
       "Errors      32.0  \n",
       "Salary    2460.0  "
      ]
     },
     "execution_count": 4,
     "metadata": {},
     "output_type": "execute_result"
    }
   ],
   "source": [
    "# Check the distribution of values\n",
    "df.describe().T"
   ]
  },
  {
   "cell_type": "code",
   "execution_count": 5,
   "metadata": {},
   "outputs": [
    {
     "name": "stdout",
     "output_type": "stream",
     "text": [
      "<class 'pandas.core.frame.DataFrame'>\n",
      "RangeIndex: 322 entries, 0 to 321\n",
      "Data columns (total 20 columns):\n",
      " #   Column     Non-Null Count  Dtype  \n",
      "---  ------     --------------  -----  \n",
      " 0   AtBat      322 non-null    int64  \n",
      " 1   Hits       322 non-null    int64  \n",
      " 2   HmRun      322 non-null    int64  \n",
      " 3   Runs       322 non-null    int64  \n",
      " 4   RBI        322 non-null    int64  \n",
      " 5   Walks      322 non-null    int64  \n",
      " 6   Years      322 non-null    int64  \n",
      " 7   CAtBat     322 non-null    int64  \n",
      " 8   CHits      322 non-null    int64  \n",
      " 9   CHmRun     322 non-null    int64  \n",
      " 10  CRuns      322 non-null    int64  \n",
      " 11  CRBI       322 non-null    int64  \n",
      " 12  CWalks     322 non-null    int64  \n",
      " 13  League     322 non-null    object \n",
      " 14  Division   322 non-null    object \n",
      " 15  PutOuts    322 non-null    int64  \n",
      " 16  Assists    322 non-null    int64  \n",
      " 17  Errors     322 non-null    int64  \n",
      " 18  Salary     263 non-null    float64\n",
      " 19  NewLeague  322 non-null    object \n",
      "dtypes: float64(1), int64(16), object(3)\n",
      "memory usage: 50.4+ KB\n"
     ]
    }
   ],
   "source": [
    "# And basic info\n",
    "df.info()"
   ]
  },
  {
   "cell_type": "code",
   "execution_count": 6,
   "metadata": {},
   "outputs": [
    {
     "data": {
      "text/plain": [
       "AtBat         0\n",
       "Hits          0\n",
       "HmRun         0\n",
       "Runs          0\n",
       "RBI           0\n",
       "Walks         0\n",
       "Years         0\n",
       "CAtBat        0\n",
       "CHits         0\n",
       "CHmRun        0\n",
       "CRuns         0\n",
       "CRBI          0\n",
       "CWalks        0\n",
       "League        0\n",
       "Division      0\n",
       "PutOuts       0\n",
       "Assists       0\n",
       "Errors        0\n",
       "Salary       59\n",
       "NewLeague     0\n",
       "dtype: int64"
      ]
     },
     "execution_count": 6,
     "metadata": {},
     "output_type": "execute_result"
    }
   ],
   "source": [
    "# Lets see how many null we have\n",
    "df.isnull().sum()"
   ]
  },
  {
   "cell_type": "markdown",
   "metadata": {},
   "source": [
    "# 2. Manipulate data get ready for modelling"
   ]
  },
  {
   "cell_type": "code",
   "execution_count": 7,
   "metadata": {},
   "outputs": [
    {
     "data": {
      "text/plain": [
       "(263, 20)"
      ]
     },
     "execution_count": 7,
     "metadata": {},
     "output_type": "execute_result"
    }
   ],
   "source": [
    "# It is not wise to drop null values in small data. But for now we will focus on the models and their result.\n",
    "df.dropna(inplace = True)\n",
    "df.shape"
   ]
  },
  {
   "cell_type": "code",
   "execution_count": 8,
   "metadata": {},
   "outputs": [],
   "source": [
    "# Change the categorical data to numeric data\n",
    "df = pd.get_dummies(df, columns = ['League', 'Division', 'NewLeague'], drop_first = True)"
   ]
  },
  {
   "cell_type": "code",
   "execution_count": 9,
   "metadata": {},
   "outputs": [],
   "source": [
    "# Spllit data as data and label\n",
    "y = df[\"Salary\"]\n",
    "X = df.drop('Salary', axis=1)"
   ]
  },
  {
   "cell_type": "code",
   "execution_count": 10,
   "metadata": {},
   "outputs": [],
   "source": [
    "X_train, X_test, y_train, y_test = train_test_split(X, y, test_size=0.20, random_state=46)"
   ]
  },
  {
   "cell_type": "code",
   "execution_count": 11,
   "metadata": {},
   "outputs": [],
   "source": [
    "# That method will return the a dataframe with our modellist and result(MSE) which we created at the beginning\n",
    "def modelResult(data,label):\n",
    "    df_model=pd.DataFrame()\n",
    "    for name,model in modelList.items():\n",
    "        X_train, X_test, y_train, y_test = train_test_split(data, label, test_size=0.20, random_state=46)\n",
    "        model.fit(X_train,y_train)\n",
    "        y_pred=model.predict(X_test)\n",
    "        mse=np.sqrt(mean_squared_error(y_test, y_pred))\n",
    "        mseCV = np.sqrt(np.mean(-cross_val_score(model, X_train, y_train, cv = 10, scoring = \"neg_mean_squared_error\")))\n",
    "        index=[]\n",
    "        index.append(name)\n",
    "        df_temp=pd.DataFrame({\"MSE\":mse,\"MSECV\":mseCV},index=index)\n",
    "        df_model=df_model.append(df_temp)\n",
    "    return df_model"
   ]
  },
  {
   "cell_type": "code",
   "execution_count": 12,
   "metadata": {},
   "outputs": [],
   "source": [
    "# As we are going to use same steps many times lets just create a method for better understanding less confusion \n",
    "# and to focus more on the point\n",
    "# That method will return MSE and MSECV(contains cross validation) based on our data and model\n",
    "def meanSquaredError(model,data,label):\n",
    "    X_train, X_test, y_train, y_test = train_test_split(data, label, test_size=0.20, random_state=46)\n",
    "    model.fit(X_train,y_train)\n",
    "    y_pred=model.predict(X_test)\n",
    "    mse=np.sqrt(mean_squared_error(y_test, y_pred))\n",
    "    mseCV = np.sqrt(np.mean(-cross_val_score(model, X_train, y_train, cv = 10, scoring = \"neg_mean_squared_error\")))\n",
    "    display(\"MSE > \"+str(mse))\n",
    "    display(\"MSECV > \"+str(mseCV))\n",
    "    "
   ]
  },
  {
   "cell_type": "markdown",
   "metadata": {},
   "source": [
    "# 3. Basic result for initial models"
   ]
  },
  {
   "cell_type": "code",
   "execution_count": 13,
   "metadata": {},
   "outputs": [
    {
     "data": {
      "text/html": [
       "<div>\n",
       "<style scoped>\n",
       "    .dataframe tbody tr th:only-of-type {\n",
       "        vertical-align: middle;\n",
       "    }\n",
       "\n",
       "    .dataframe tbody tr th {\n",
       "        vertical-align: top;\n",
       "    }\n",
       "\n",
       "    .dataframe thead th {\n",
       "        text-align: right;\n",
       "    }\n",
       "</style>\n",
       "<table border=\"1\" class=\"dataframe\">\n",
       "  <thead>\n",
       "    <tr style=\"text-align: right;\">\n",
       "      <th></th>\n",
       "      <th>MSE</th>\n",
       "      <th>MSECV</th>\n",
       "    </tr>\n",
       "  </thead>\n",
       "  <tbody>\n",
       "    <tr>\n",
       "      <th>LinearReg</th>\n",
       "      <td>479.071504</td>\n",
       "      <td>307.225761</td>\n",
       "    </tr>\n",
       "    <tr>\n",
       "      <th>Ridge</th>\n",
       "      <td>479.225773</td>\n",
       "      <td>306.767049</td>\n",
       "    </tr>\n",
       "    <tr>\n",
       "      <th>Lasso</th>\n",
       "      <td>478.317972</td>\n",
       "      <td>305.898477</td>\n",
       "    </tr>\n",
       "    <tr>\n",
       "      <th>ElasticNet</th>\n",
       "      <td>486.183422</td>\n",
       "      <td>302.740981</td>\n",
       "    </tr>\n",
       "  </tbody>\n",
       "</table>\n",
       "</div>"
      ],
      "text/plain": [
       "                   MSE       MSECV\n",
       "LinearReg   479.071504  307.225761\n",
       "Ridge       479.225773  306.767049\n",
       "Lasso       478.317972  305.898477\n",
       "ElasticNet  486.183422  302.740981"
      ]
     },
     "execution_count": 13,
     "metadata": {},
     "output_type": "execute_result"
    }
   ],
   "source": [
    "# The result for initial modellist\n",
    "modelResult(X,y)"
   ]
  },
  {
   "cell_type": "code",
   "execution_count": 14,
   "metadata": {},
   "outputs": [
    {
     "data": {
      "text/html": [
       "<div>\n",
       "<style scoped>\n",
       "    .dataframe tbody tr th:only-of-type {\n",
       "        vertical-align: middle;\n",
       "    }\n",
       "\n",
       "    .dataframe tbody tr th {\n",
       "        vertical-align: top;\n",
       "    }\n",
       "\n",
       "    .dataframe thead th {\n",
       "        text-align: right;\n",
       "    }\n",
       "</style>\n",
       "<table border=\"1\" class=\"dataframe\">\n",
       "  <thead>\n",
       "    <tr style=\"text-align: right;\">\n",
       "      <th></th>\n",
       "      <th>MSE</th>\n",
       "      <th>MSECV</th>\n",
       "    </tr>\n",
       "  </thead>\n",
       "  <tbody>\n",
       "    <tr>\n",
       "      <th>LinearReg</th>\n",
       "      <td>479.071504</td>\n",
       "      <td>307.225761</td>\n",
       "    </tr>\n",
       "    <tr>\n",
       "      <th>Ridge</th>\n",
       "      <td>458.751443</td>\n",
       "      <td>301.308450</td>\n",
       "    </tr>\n",
       "    <tr>\n",
       "      <th>Lasso</th>\n",
       "      <td>461.242286</td>\n",
       "      <td>301.120525</td>\n",
       "    </tr>\n",
       "    <tr>\n",
       "      <th>ElasticNet</th>\n",
       "      <td>463.935294</td>\n",
       "      <td>299.848428</td>\n",
       "    </tr>\n",
       "  </tbody>\n",
       "</table>\n",
       "</div>"
      ],
      "text/plain": [
       "                   MSE       MSECV\n",
       "LinearReg   479.071504  307.225761\n",
       "Ridge       458.751443  301.308450\n",
       "Lasso       461.242286  301.120525\n",
       "ElasticNet  463.935294  299.848428"
      ]
     },
     "execution_count": 14,
     "metadata": {},
     "output_type": "execute_result"
    }
   ],
   "source": [
    "# The result with initial model list with scalled data.\n",
    "modelResult(scaler.fit_transform(X),y)"
   ]
  },
  {
   "cell_type": "markdown",
   "metadata": {},
   "source": [
    "# 4. Result for CV models"
   ]
  },
  {
   "cell_type": "code",
   "execution_count": 15,
   "metadata": {},
   "outputs": [],
   "source": [
    "from sklearn.linear_model import RidgeCV\n",
    "from sklearn.linear_model import LassoCV\n",
    "from sklearn.linear_model import ElasticNetCV"
   ]
  },
  {
   "cell_type": "code",
   "execution_count": 16,
   "metadata": {},
   "outputs": [],
   "source": [
    "# We will try different alpha values to find the best alpha value\n",
    "alphas1 = np.random.randint(0,1000,100)\n",
    "alphas2 = 10**np.linspace(10,-2,100)*0.5\n",
    "alphas3 = np.linspace(0,1,1000)"
   ]
  },
  {
   "cell_type": "code",
   "execution_count": 17,
   "metadata": {},
   "outputs": [],
   "source": [
    "# Method for ridgeCV\n",
    "def ridgeAlpha(alphas):\n",
    "    ridge_cv = RidgeCV(alphas = alphas, scoring = \"neg_mean_squared_error\", cv = 10, normalize = True)\n",
    "    X_train, X_test, y_train, y_test = train_test_split(X, y, test_size=0.20, random_state=46)\n",
    "    ridge_cv.fit(X_train,y_train)\n",
    "    return ridge_cv.alpha_"
   ]
  },
  {
   "cell_type": "code",
   "execution_count": 18,
   "metadata": {},
   "outputs": [
    {
     "data": {
      "text/plain": [
       "5"
      ]
     },
     "metadata": {},
     "output_type": "display_data"
    }
   ],
   "source": [
    "display(ridgeAlpha(alphas1))"
   ]
  },
  {
   "cell_type": "code",
   "execution_count": 19,
   "metadata": {},
   "outputs": [
    {
     "data": {
      "text/plain": [
       "'MSE > 479.9344707778003'"
      ]
     },
     "metadata": {},
     "output_type": "display_data"
    },
    {
     "data": {
      "text/plain": [
       "'MSECV > 305.814003141136'"
      ]
     },
     "metadata": {},
     "output_type": "display_data"
    }
   ],
   "source": [
    "ridge_tuned=Ridge(alpha=ridgeAlpha(alphas1)).fit(X_train,y_train)\n",
    "meanSquaredError(ridge_tuned,X,y)"
   ]
  },
  {
   "cell_type": "code",
   "execution_count": 20,
   "metadata": {},
   "outputs": [
    {
     "data": {
      "text/plain": [
       "'MSE > 479.13582858479754'"
      ]
     },
     "metadata": {},
     "output_type": "display_data"
    },
    {
     "data": {
      "text/plain": [
       "'MSECV > 307.006018529552'"
      ]
     },
     "metadata": {},
     "output_type": "display_data"
    }
   ],
   "source": [
    "ridge_tuned=Ridge(alpha=ridgeAlpha(alphas2)).fit(X_train,y_train)\n",
    "meanSquaredError(ridge_tuned,X,y)"
   ]
  },
  {
   "cell_type": "code",
   "execution_count": 21,
   "metadata": {},
   "outputs": [
    {
     "data": {
      "text/plain": [
       "'MSE > 479.12948330123106'"
      ]
     },
     "metadata": {},
     "output_type": "display_data"
    },
    {
     "data": {
      "text/plain": [
       "'MSECV > 307.0254782944463'"
      ]
     },
     "metadata": {},
     "output_type": "display_data"
    }
   ],
   "source": [
    "ridge_tuned=Ridge(alpha=ridgeAlpha(alphas3)).fit(X_train,y_train)\n",
    "meanSquaredError(ridge_tuned,X,y)"
   ]
  },
  {
   "cell_type": "code",
   "execution_count": 22,
   "metadata": {},
   "outputs": [],
   "source": [
    "# Method for lassoCV\n",
    "def lassoAlpha(alphas):\n",
    "    lasso_cv = LassoCV(alphas = alphas, cv = 10, normalize = True)\n",
    "    X_train, X_test, y_train, y_test = train_test_split(X, y, test_size=0.20, random_state=46)\n",
    "    lasso_cv.fit(X_train,y_train)\n",
    "    return lasso_cv.alpha_"
   ]
  },
  {
   "cell_type": "code",
   "execution_count": 23,
   "metadata": {},
   "outputs": [
    {
     "data": {
      "text/plain": [
       "'MSE > 482.8315006422545'"
      ]
     },
     "metadata": {},
     "output_type": "display_data"
    },
    {
     "data": {
      "text/plain": [
       "'MSECV > 303.01774941438657'"
      ]
     },
     "metadata": {},
     "output_type": "display_data"
    }
   ],
   "source": [
    "lasso_tuned=Lasso(alpha=lassoAlpha(alphas1)).fit(X_train,y_train)\n",
    "meanSquaredError(lasso_tuned,X,y)"
   ]
  },
  {
   "cell_type": "code",
   "execution_count": 24,
   "metadata": {},
   "outputs": [
    {
     "data": {
      "text/plain": [
       "'MSE > 477.7153213422907'"
      ]
     },
     "metadata": {},
     "output_type": "display_data"
    },
    {
     "data": {
      "text/plain": [
       "'MSECV > 306.5321428787491'"
      ]
     },
     "metadata": {},
     "output_type": "display_data"
    }
   ],
   "source": [
    "lasso_tuned=Lasso(alpha=lassoAlpha(alphas2)).fit(X_train,y_train)\n",
    "meanSquaredError(lasso_tuned,X,y)"
   ]
  },
  {
   "cell_type": "code",
   "execution_count": 25,
   "metadata": {},
   "outputs": [
    {
     "data": {
      "text/plain": [
       "'MSE > 477.72670212416784'"
      ]
     },
     "metadata": {},
     "output_type": "display_data"
    },
    {
     "data": {
      "text/plain": [
       "'MSECV > 306.51782879160237'"
      ]
     },
     "metadata": {},
     "output_type": "display_data"
    }
   ],
   "source": [
    "lasso_tuned=Lasso(alpha=lassoAlpha(alphas3)).fit(X_train,y_train)\n",
    "meanSquaredError(lasso_tuned,X,y)"
   ]
  },
  {
   "cell_type": "markdown",
   "metadata": {},
   "source": [
    "### Lets add all together"
   ]
  },
  {
   "cell_type": "code",
   "execution_count": 26,
   "metadata": {},
   "outputs": [],
   "source": [
    "def dfScore(name,model,data,label):\n",
    "    df_model=pd.DataFrame()\n",
    "    X_train, X_test, y_train, y_test = train_test_split(data, label, test_size=0.20, random_state=46)\n",
    "    model.fit(X_train,y_train)\n",
    "    y_pred=model.predict(X_test)\n",
    "    mse=np.sqrt(mean_squared_error(y_test, y_pred))\n",
    "    mseCV = np.sqrt(np.mean(-cross_val_score(model, X_train, y_train, cv = 10, scoring = \"neg_mean_squared_error\")))\n",
    "    index=[]\n",
    "    index.append(name)\n",
    "    df_temp=pd.DataFrame({\"MSE\":mse,\"MSECV\":mseCV},index=index)\n",
    "    df_model=df_model.append(df_temp)\n",
    "    return df_model\n",
    "    \n",
    "    "
   ]
  },
  {
   "cell_type": "code",
   "execution_count": 27,
   "metadata": {},
   "outputs": [
    {
     "data": {
      "text/html": [
       "<div>\n",
       "<style scoped>\n",
       "    .dataframe tbody tr th:only-of-type {\n",
       "        vertical-align: middle;\n",
       "    }\n",
       "\n",
       "    .dataframe tbody tr th {\n",
       "        vertical-align: top;\n",
       "    }\n",
       "\n",
       "    .dataframe thead th {\n",
       "        text-align: right;\n",
       "    }\n",
       "</style>\n",
       "<table border=\"1\" class=\"dataframe\">\n",
       "  <thead>\n",
       "    <tr style=\"text-align: right;\">\n",
       "      <th></th>\n",
       "      <th>MSE</th>\n",
       "      <th>MSECV</th>\n",
       "    </tr>\n",
       "  </thead>\n",
       "  <tbody>\n",
       "    <tr>\n",
       "      <th>LinearReg</th>\n",
       "      <td>479.071504</td>\n",
       "      <td>307.225761</td>\n",
       "    </tr>\n",
       "    <tr>\n",
       "      <th>Ridge</th>\n",
       "      <td>479.225773</td>\n",
       "      <td>306.767049</td>\n",
       "    </tr>\n",
       "    <tr>\n",
       "      <th>Lasso</th>\n",
       "      <td>478.317972</td>\n",
       "      <td>305.898477</td>\n",
       "    </tr>\n",
       "    <tr>\n",
       "      <th>ElasticNet</th>\n",
       "      <td>486.183422</td>\n",
       "      <td>302.740981</td>\n",
       "    </tr>\n",
       "    <tr>\n",
       "      <th>Ridge_Tuned</th>\n",
       "      <td>479.129483</td>\n",
       "      <td>307.025478</td>\n",
       "    </tr>\n",
       "    <tr>\n",
       "      <th>Lasso_Tuned</th>\n",
       "      <td>477.726702</td>\n",
       "      <td>306.517829</td>\n",
       "    </tr>\n",
       "  </tbody>\n",
       "</table>\n",
       "</div>"
      ],
      "text/plain": [
       "                    MSE       MSECV\n",
       "LinearReg    479.071504  307.225761\n",
       "Ridge        479.225773  306.767049\n",
       "Lasso        478.317972  305.898477\n",
       "ElasticNet   486.183422  302.740981\n",
       "Ridge_Tuned  479.129483  307.025478\n",
       "Lasso_Tuned  477.726702  306.517829"
      ]
     },
     "execution_count": 27,
     "metadata": {},
     "output_type": "execute_result"
    }
   ],
   "source": [
    "df_Models = modelResult(X,y)\n",
    "df_Models = df_Models.append(dfScore(\"Ridge_Tuned\",ridge_tuned,X,y))\n",
    "df_Models = df_Models.append(dfScore(\"Lasso_Tuned\",lasso_tuned,X,y))\n",
    "df_Models"
   ]
  },
  {
   "cell_type": "markdown",
   "metadata": {},
   "source": [
    "### Lets add ElasticNet"
   ]
  },
  {
   "cell_type": "code",
   "execution_count": 28,
   "metadata": {},
   "outputs": [],
   "source": [
    "from sklearn.model_selection import GridSearchCV\n",
    "enet_params = {\"l1_ratio\": [0.1,0.2,0.4,0.5,0.6,0.8,1],\n",
    "              \"alpha\":[0.1,0.01,0.001,0.2,0.3,0.5,0.8,0.9,1]}\n",
    "enet_model = ElasticNet()"
   ]
  },
  {
   "cell_type": "code",
   "execution_count": 29,
   "metadata": {},
   "outputs": [],
   "source": [
    "gs_cv_enet = GridSearchCV(enet_model, enet_params, cv=10).fit(X_train,y_train)"
   ]
  },
  {
   "cell_type": "code",
   "execution_count": 30,
   "metadata": {},
   "outputs": [
    {
     "data": {
      "text/plain": [
       "{'alpha': 1, 'l1_ratio': 0.1}"
      ]
     },
     "execution_count": 30,
     "metadata": {},
     "output_type": "execute_result"
    }
   ],
   "source": [
    "gs_cv_enet.best_params_"
   ]
  },
  {
   "cell_type": "code",
   "execution_count": 31,
   "metadata": {},
   "outputs": [],
   "source": [
    "enet_tuned = ElasticNet(**gs_cv_enet.best_params_).fit(X, y)"
   ]
  },
  {
   "cell_type": "code",
   "execution_count": 32,
   "metadata": {},
   "outputs": [
    {
     "data": {
      "text/html": [
       "<div>\n",
       "<style scoped>\n",
       "    .dataframe tbody tr th:only-of-type {\n",
       "        vertical-align: middle;\n",
       "    }\n",
       "\n",
       "    .dataframe tbody tr th {\n",
       "        vertical-align: top;\n",
       "    }\n",
       "\n",
       "    .dataframe thead th {\n",
       "        text-align: right;\n",
       "    }\n",
       "</style>\n",
       "<table border=\"1\" class=\"dataframe\">\n",
       "  <thead>\n",
       "    <tr style=\"text-align: right;\">\n",
       "      <th></th>\n",
       "      <th>MSE</th>\n",
       "      <th>MSECV</th>\n",
       "    </tr>\n",
       "  </thead>\n",
       "  <tbody>\n",
       "    <tr>\n",
       "      <th>LinearReg</th>\n",
       "      <td>479.071504</td>\n",
       "      <td>307.225761</td>\n",
       "    </tr>\n",
       "    <tr>\n",
       "      <th>Ridge</th>\n",
       "      <td>479.225773</td>\n",
       "      <td>306.767049</td>\n",
       "    </tr>\n",
       "    <tr>\n",
       "      <th>Lasso</th>\n",
       "      <td>478.317972</td>\n",
       "      <td>305.898477</td>\n",
       "    </tr>\n",
       "    <tr>\n",
       "      <th>ElasticNet</th>\n",
       "      <td>486.183422</td>\n",
       "      <td>302.740981</td>\n",
       "    </tr>\n",
       "    <tr>\n",
       "      <th>Ridge_Tuned</th>\n",
       "      <td>479.129483</td>\n",
       "      <td>307.025478</td>\n",
       "    </tr>\n",
       "    <tr>\n",
       "      <th>Lasso_Tuned</th>\n",
       "      <td>477.726702</td>\n",
       "      <td>306.517829</td>\n",
       "    </tr>\n",
       "    <tr>\n",
       "      <th>Enet_Tuned</th>\n",
       "      <td>487.574519</td>\n",
       "      <td>302.279132</td>\n",
       "    </tr>\n",
       "  </tbody>\n",
       "</table>\n",
       "</div>"
      ],
      "text/plain": [
       "                    MSE       MSECV\n",
       "LinearReg    479.071504  307.225761\n",
       "Ridge        479.225773  306.767049\n",
       "Lasso        478.317972  305.898477\n",
       "ElasticNet   486.183422  302.740981\n",
       "Ridge_Tuned  479.129483  307.025478\n",
       "Lasso_Tuned  477.726702  306.517829\n",
       "Enet_Tuned   487.574519  302.279132"
      ]
     },
     "execution_count": 32,
     "metadata": {},
     "output_type": "execute_result"
    }
   ],
   "source": [
    "df_Models = df_Models.append(dfScore(\"Enet_Tuned\",enet_tuned,X,y))\n",
    "df_Models"
   ]
  },
  {
   "cell_type": "markdown",
   "metadata": {},
   "source": [
    "### Lets use scalled data with Enet_Tuned"
   ]
  },
  {
   "cell_type": "code",
   "execution_count": 33,
   "metadata": {},
   "outputs": [
    {
     "data": {
      "text/html": [
       "<div>\n",
       "<style scoped>\n",
       "    .dataframe tbody tr th:only-of-type {\n",
       "        vertical-align: middle;\n",
       "    }\n",
       "\n",
       "    .dataframe tbody tr th {\n",
       "        vertical-align: top;\n",
       "    }\n",
       "\n",
       "    .dataframe thead th {\n",
       "        text-align: right;\n",
       "    }\n",
       "</style>\n",
       "<table border=\"1\" class=\"dataframe\">\n",
       "  <thead>\n",
       "    <tr style=\"text-align: right;\">\n",
       "      <th></th>\n",
       "      <th>MSE</th>\n",
       "      <th>MSECV</th>\n",
       "    </tr>\n",
       "  </thead>\n",
       "  <tbody>\n",
       "    <tr>\n",
       "      <th>LinearReg</th>\n",
       "      <td>479.071504</td>\n",
       "      <td>307.225761</td>\n",
       "    </tr>\n",
       "    <tr>\n",
       "      <th>Ridge</th>\n",
       "      <td>479.225773</td>\n",
       "      <td>306.767049</td>\n",
       "    </tr>\n",
       "    <tr>\n",
       "      <th>Lasso</th>\n",
       "      <td>478.317972</td>\n",
       "      <td>305.898477</td>\n",
       "    </tr>\n",
       "    <tr>\n",
       "      <th>ElasticNet</th>\n",
       "      <td>486.183422</td>\n",
       "      <td>302.740981</td>\n",
       "    </tr>\n",
       "    <tr>\n",
       "      <th>Ridge_Tuned</th>\n",
       "      <td>479.129483</td>\n",
       "      <td>307.025478</td>\n",
       "    </tr>\n",
       "    <tr>\n",
       "      <th>Lasso_Tuned</th>\n",
       "      <td>477.726702</td>\n",
       "      <td>306.517829</td>\n",
       "    </tr>\n",
       "    <tr>\n",
       "      <th>Enet_Tuned</th>\n",
       "      <td>487.574519</td>\n",
       "      <td>302.279132</td>\n",
       "    </tr>\n",
       "    <tr>\n",
       "      <th>Enet_Tuned_Scalled</th>\n",
       "      <td>463.196037</td>\n",
       "      <td>301.184559</td>\n",
       "    </tr>\n",
       "  </tbody>\n",
       "</table>\n",
       "</div>"
      ],
      "text/plain": [
       "                           MSE       MSECV\n",
       "LinearReg           479.071504  307.225761\n",
       "Ridge               479.225773  306.767049\n",
       "Lasso               478.317972  305.898477\n",
       "ElasticNet          486.183422  302.740981\n",
       "Ridge_Tuned         479.129483  307.025478\n",
       "Lasso_Tuned         477.726702  306.517829\n",
       "Enet_Tuned          487.574519  302.279132\n",
       "Enet_Tuned_Scalled  463.196037  301.184559"
      ]
     },
     "execution_count": 33,
     "metadata": {},
     "output_type": "execute_result"
    }
   ],
   "source": [
    "df_Models = df_Models.append(dfScore(\"Enet_Tuned_Scalled\",enet_tuned,scaler.fit_transform(X),y))\n",
    "df_Models"
   ]
  },
  {
   "cell_type": "code",
   "execution_count": 34,
   "metadata": {},
   "outputs": [],
   "source": [
    "# If we do changes like that MSE values will be lesser for sure. But will that be better for unseen data or not ? \n",
    "Q1 = df.Salary.quantile(0.25)\n",
    "Q3 = df.Salary.quantile(0.75)\n",
    "IQR = Q3-Q1\n",
    "upper = Q3 + 1.5*IQR\n",
    "df.loc[df[\"Salary\"] > upper,\"Salary\"] = upper"
   ]
  },
  {
   "cell_type": "code",
   "execution_count": 35,
   "metadata": {},
   "outputs": [
    {
     "data": {
      "text/html": [
       "<div>\n",
       "<style scoped>\n",
       "    .dataframe tbody tr th:only-of-type {\n",
       "        vertical-align: middle;\n",
       "    }\n",
       "\n",
       "    .dataframe tbody tr th {\n",
       "        vertical-align: top;\n",
       "    }\n",
       "\n",
       "    .dataframe thead th {\n",
       "        text-align: right;\n",
       "    }\n",
       "</style>\n",
       "<table border=\"1\" class=\"dataframe\">\n",
       "  <thead>\n",
       "    <tr style=\"text-align: right;\">\n",
       "      <th></th>\n",
       "      <th>MSE</th>\n",
       "      <th>MSECV</th>\n",
       "    </tr>\n",
       "  </thead>\n",
       "  <tbody>\n",
       "    <tr>\n",
       "      <th>LinearReg</th>\n",
       "      <td>479.071504</td>\n",
       "      <td>307.225761</td>\n",
       "    </tr>\n",
       "    <tr>\n",
       "      <th>Ridge</th>\n",
       "      <td>479.225773</td>\n",
       "      <td>306.767049</td>\n",
       "    </tr>\n",
       "    <tr>\n",
       "      <th>Lasso</th>\n",
       "      <td>478.317972</td>\n",
       "      <td>305.898477</td>\n",
       "    </tr>\n",
       "    <tr>\n",
       "      <th>ElasticNet</th>\n",
       "      <td>486.183422</td>\n",
       "      <td>302.740981</td>\n",
       "    </tr>\n",
       "    <tr>\n",
       "      <th>Ridge_Tuned</th>\n",
       "      <td>479.129483</td>\n",
       "      <td>307.025478</td>\n",
       "    </tr>\n",
       "    <tr>\n",
       "      <th>Lasso_Tuned</th>\n",
       "      <td>477.726702</td>\n",
       "      <td>306.517829</td>\n",
       "    </tr>\n",
       "    <tr>\n",
       "      <th>Enet_Tuned</th>\n",
       "      <td>487.574519</td>\n",
       "      <td>302.279132</td>\n",
       "    </tr>\n",
       "    <tr>\n",
       "      <th>Enet_Tuned_Scalled</th>\n",
       "      <td>463.196037</td>\n",
       "      <td>301.184559</td>\n",
       "    </tr>\n",
       "    <tr>\n",
       "      <th>Enet_Tuned_Scalled2</th>\n",
       "      <td>370.966398</td>\n",
       "      <td>271.085462</td>\n",
       "    </tr>\n",
       "  </tbody>\n",
       "</table>\n",
       "</div>"
      ],
      "text/plain": [
       "                            MSE       MSECV\n",
       "LinearReg            479.071504  307.225761\n",
       "Ridge                479.225773  306.767049\n",
       "Lasso                478.317972  305.898477\n",
       "ElasticNet           486.183422  302.740981\n",
       "Ridge_Tuned          479.129483  307.025478\n",
       "Lasso_Tuned          477.726702  306.517829\n",
       "Enet_Tuned           487.574519  302.279132\n",
       "Enet_Tuned_Scalled   463.196037  301.184559\n",
       "Enet_Tuned_Scalled2  370.966398  271.085462"
      ]
     },
     "execution_count": 35,
     "metadata": {},
     "output_type": "execute_result"
    }
   ],
   "source": [
    "df_Models = df_Models.append(dfScore(\"Enet_Tuned_Scalled2\",enet_tuned,scaler.fit_transform(X),y))\n",
    "df_Models"
   ]
  },
  {
   "cell_type": "code",
   "execution_count": null,
   "metadata": {},
   "outputs": [],
   "source": []
  }
 ],
 "metadata": {
  "kernelspec": {
   "display_name": "Python 3",
   "language": "python",
   "name": "python3"
  },
  "language_info": {
   "codemirror_mode": {
    "name": "ipython",
    "version": 3
   },
   "file_extension": ".py",
   "mimetype": "text/x-python",
   "name": "python",
   "nbconvert_exporter": "python",
   "pygments_lexer": "ipython3",
   "version": "3.7.6"
  }
 },
 "nbformat": 4,
 "nbformat_minor": 4
}
